{
  "nbformat": 4,
  "nbformat_minor": 0,
  "metadata": {
    "colab": {
      "provenance": []
    },
    "kernelspec": {
      "name": "python3",
      "display_name": "Python 3"
    },
    "language_info": {
      "name": "python"
    }
  },
  "cells": [
    {
      "cell_type": "markdown",
      "source": [
        "# Data Types and Structures Questions\n"
      ],
      "metadata": {
        "id": "GnMrxzqk3b1q"
      }
    },
    {
      "cell_type": "markdown",
      "source": [
        "**Theory questions**"
      ],
      "metadata": {
        "id": "DEPct_goHgOS"
      }
    },
    {
      "cell_type": "markdown",
      "source": [
        " **1. What are data structures, and why are they important?**\n",
        "\n",
        " -> Data structures are a way to organize data so that it can be used by a computer program or system. They are a fundamental part of computer science and are important because they allow users to efficiently store, organize, and work with data.\n",
        "\n",
        "\n"
      ],
      "metadata": {
        "id": "FycbjTE9Hrfv"
      }
    },
    {
      "cell_type": "markdown",
      "source": [
        "**2.\tExplain the difference between mutable and immutable data types with examples?**\n",
        "\n",
        "-> The main difference between mutable and immutable data types is that mutable data types can be changed after creation, while immutable data types cannot.\n",
        "\n",
        "**Mutable data types**\n",
        "These data types can be modified after they are created. Examples of mutable data types include lists, dictionaries, and sets.\n",
        "\n",
        "**Immutable data types**\n",
        "These data types cannot be altered once they are set. Examples of immutable data types include strings and tuples.\n",
        "\n"
      ],
      "metadata": {
        "id": "ZHH7C6cmIzGK"
      }
    },
    {
      "cell_type": "markdown",
      "source": [
        "**3.\tWhat are the main differences between lists and tuples in Python?**\n",
        "\n",
        "->\n",
        "Lists and tuples are both fundamental data structures in Python used to store collections of items. Here's a breakdown of their key differences:\n",
        "Mutability:\n",
        "\n",
        " **Lists:** Mutable, meaning you can modify their elements after creation (add, remove, update).\n",
        "\n",
        " **Tuples:** Immutable, meaning their elements cannot be changed once defined."
      ],
      "metadata": {
        "id": "pDY5Jtj1KlUC"
      }
    },
    {
      "cell_type": "markdown",
      "source": [
        "**4.\t. Describe how dictionaries store data?**\n",
        "\n",
        "\n",
        "->*A dictionary stores data in \"key-value pairs,\" meaning each piece of information is associated with a unique identifier called a \"key\" which allows for quick retrieval of the corresponding \"value\" stored with it; essentially acting like an index in a traditional dictionary where you look up a word (key) to find its definition (value).*"
      ],
      "metadata": {
        "id": "RjrhcVwnLqUR"
      }
    },
    {
      "cell_type": "markdown",
      "source": [
        "**5.\tWhy might you use a set instead of a list in Python?**\n",
        "\n",
        "->\n",
        "we would use a set instead of a list in Python when:\n",
        "\n",
        "**Uniqueness Matters:**\n",
        "\n",
        "   Sets ensure that each element is unique, automatically removing duplicates.\n",
        "   If you only need to store distinct values, a set is the ideal choice.\n",
        "\n",
        "   **Fast Membership Testing:**\n",
        "   Sets are optimized for membership testing (x in set), offering faster performance than lists, especially for large datasets.\n",
        "\n",
        "\n",
        " **Set Operations:**\n",
        "   Sets allow you to perform mathematical set operations like union, intersection, and difference efficiently."
      ],
      "metadata": {
        "id": "L_SQmUjNMqAj"
      }
    },
    {
      "cell_type": "markdown",
      "source": [
        "**6.\tWhat is a string in Python, and how is it different from a list?**\n",
        "\n",
        "-> Mutable vs. Immutable: A list is mutable, meaning you can modify its elements after it is created. On the other hand, a string is immutable, which means you cannot change its characters once it is created. Instead, you need to create a new string with the desired modifications."
      ],
      "metadata": {
        "id": "J4gJTbINNeU0"
      }
    },
    {
      "cell_type": "markdown",
      "source": [
        "**7.\tHow do tuples ensure data integrity in Python?**\n",
        "\n",
        "->Tuples ensure data integrity in Python through their immutability, which means that once a tuple is created, its elements cannot be changed, added, or removed.\n",
        "\n",
        "\n",
        "Here's how immutability contributes to data integrity:\n",
        "\n",
        "   **Prevents accidental changes:**\n",
        "  Since you can't modify a tuple, you eliminate the risk of accidentally altering its contents. This is crucial when you're working with data that shouldn't be changed\n",
        "  \n",
        "  \n",
        "**Safe sharing:**\n",
        "  When you pass a tuple to a function, you can be confident that the function won't modify the original data. This makes tuples a safer choice for sharing data between different parts of your code.\n",
        "\n",
        "\n",
        "   **Reliable keys in dictionaries:**\n",
        "  Tuples can be used as keys in dictionaries because their values are guaranteed not to change. This ensures that your dictionaries remain consistent and that you can always retrieve the correct values.\n",
        "\n",
        "\n",
        "   **Data consistency:**\n",
        "  In scenarios where you need to represent a fixed set of values (e.g., coordinates, RGB color values), tuples provide a way to enforce the integrity of that data."
      ],
      "metadata": {
        "id": "EJovP6MEOejo"
      }
    },
    {
      "cell_type": "markdown",
      "source": [
        "**8.\tWhat is a hash table, and how does it relate to dictionaries in Python?**\n",
        "\n",
        "->A hash table is a data structure that stores key-value pairs using a hash function to compute an index into an array. The index determines which bucket to use for the data.\n",
        "\n",
        "Python dictionaries are implemented as hash tables. The keys of a Python dictionary are generated by a hashing function.\n",
        "\n"
      ],
      "metadata": {
        "id": "eFZwH3J4PwnS"
      }
    },
    {
      "cell_type": "markdown",
      "source": [
        "**9.\tCan lists contain different data types in Python?**\n",
        "\n",
        "->\n",
        "Yes, lists in Python can contain different data types. You can mix and match integers, strings, floats, booleans, and even other data structures like lists and dictionaries within a single list.\n"
      ],
      "metadata": {
        "id": "4cxGNco8QSkr"
      }
    },
    {
      "cell_type": "markdown",
      "source": [
        "**10.\tExplain why strings are immutable in Python.**\n",
        "\n",
        "->Strings in Python are “immutable” which means they can not be changed after they are created. Some other immutable data types are integers, float, boolean, etc.\n",
        "\n",
        "The immutability of Python string is very useful as it helps in hashing, performance optimization, safety, ease of use, etc."
      ],
      "metadata": {
        "id": "LWC97W-ERPUr"
      }
    },
    {
      "cell_type": "markdown",
      "source": [
        "11.**What advantages do dictionaries offer over lists for certain tasks?**\n",
        "\n",
        "->Dictionaries offer several advantages over lists for certain tasks, including:\n",
        "\n",
        "  **Faster lookups**:\n",
        "  Dictionaries are faster for lookup operations because they use a hash table to store key-value pairs. This makes them ideal for tasks that require frequent lookups or searches.\n",
        "\n",
        "**Easier to read**:\n",
        "Dictionaries make code easier to read when generating key:value pairs.\n",
        "\n",
        "\n",
        "**More flexible**:\n",
        "Dictionaries can store any type of data as both the key and the value. This makes them well-suited to a wide range of tasks.\n",
        "\n",
        "\n",
        "**Memory efficient**:\n",
        "Dictionaries are memory efficient because they only store the key-value pairs that are needed.\n"
      ],
      "metadata": {
        "id": "hjWBZD-1Rt1a"
      }
    },
    {
      "cell_type": "markdown",
      "source": [
        "**12.\tDescribe a scenario where using a tuple would be preferable over a list.**\n",
        "\n",
        "->A scenario where a tuple would be preferable over a list is when you need to store a collection of data that should never be modified throughout the program, like representing a set of fixed coordinates in a game or storing a person's birthdate where the date should not be changed."
      ],
      "metadata": {
        "id": "iSl4idLBSqRD"
      }
    },
    {
      "cell_type": "markdown",
      "source": [
        "**13.\tHow do sets handle duplicate values in Python?**\n",
        "\n",
        "\n",
        "Sets in Python automatically handle duplicate values by simply ignoring them. When you create a set or add elements to an existing set, any duplicate values are discarded, leaving only unique elements in the set.\n"
      ],
      "metadata": {
        "id": "7ddUzzsBTUQ6"
      }
    },
    {
      "cell_type": "code",
      "source": [
        "# example\n",
        "my_set = {1, 2, 2, 3, 4, 4, 4}"
      ],
      "metadata": {
        "id": "HQq-MZJQTrYq"
      },
      "execution_count": 2,
      "outputs": []
    },
    {
      "cell_type": "code",
      "source": [
        "print(my_set)"
      ],
      "metadata": {
        "colab": {
          "base_uri": "https://localhost:8080/",
          "height": 0
        },
        "id": "P2NIC_XZT3DP",
        "outputId": "acc52908-1abc-4183-8f4f-781a3b54d7d9"
      },
      "execution_count": 3,
      "outputs": [
        {
          "output_type": "stream",
          "name": "stdout",
          "text": [
            "{1, 2, 3, 4}\n"
          ]
        }
      ]
    },
    {
      "cell_type": "markdown",
      "source": [
        "**14.\tHOW does the \"in\" keyword work differently for lists and dictionaries?**\n",
        "\n",
        "-> when using the \"in\" keyword, it checks if an element exists within a list, while for dictionaries, it checks if a specific key exists within the data structure; essentially, in a list, you're searching for a value directly, whereas in a dictionary, you're looking for a matching key to access a value.\n",
        "\n",
        "\n",
        "Key points:\n",
        "\n",
        "    \n",
        "  **List:** \"in\" checks if a given value is present among the elements in the list.\n",
        "\n",
        "**Dictionary:** \"in\" checks if a given key exists within the dictionary."
      ],
      "metadata": {
        "id": "2FM4KwYAT-vX"
      }
    },
    {
      "cell_type": "markdown",
      "source": [
        "**15.\tCan you modify the elements of a tuple? Explain why or why not.**\n",
        "\n",
        "-> No, you cannot modify the elements of a tuple in Python because tuples are \"immutable,\" meaning once created, their contents cannot be changed, added to, or removed; if you need to modify data, you should use a list instead which is mutable.\n"
      ],
      "metadata": {
        "id": "s1hcJxIeYzLU"
      }
    },
    {
      "cell_type": "markdown",
      "source": [
        "**16.\tWhat is a nested dictionary, and give an example of its use case?**\n",
        "\n",
        "->A nested dictionary is a collection of dictionaries within a single dictionary. It's a powerful tool for storing and organizing data with multiple layers. Some common use cases for nested dictionaries include:\n",
        "\n",
        "  **Employee records:** Organize employees by department, with each employee's details in a nested dictionary.\n",
        "\n",
        "\n",
        "  **Inventory systems:** Track product categories, subcategories, and individual product details.\n",
        "\n",
        "\n",
        "  **JSON data:** Nested dictionaries naturally map to the structure of JSON data, making them essential for working with APIs and web services."
      ],
      "metadata": {
        "id": "B9TNo9QUZaYc"
      }
    },
    {
      "cell_type": "markdown",
      "source": [
        "**17.\tDescribe the time complexity of accessing elements in a dictionary?**\n",
        "\n",
        "-> In Python, the time complexity of accessing an element in a dictionary is O(1) on average. This means that the time it takes to retrieve an element is constant and doesn't depend on the size of the dictionary.\n",
        "\n",
        "The space complexity of accessing an element in a dictionary is also O(1) because no additional memory is used.\n",
        "\n",
        "You can access a value from a dictionary using: the key within square brackets and the get() method.\n",
        "\n",
        "If the specified key isn't in the dictionary, the get() method returns a default value. Using dict[key] raises a KeyError exception.\n"
      ],
      "metadata": {
        "id": "uri1J9LuZ2yH"
      }
    },
    {
      "cell_type": "markdown",
      "source": [
        "**18.\tIn what situations are lists preferred over dictionaries?**\n",
        "\n",
        "->Lists are preferred over dictionaries when the order of elements is crucial, when you need to perform operations on sequences of data (like iteration or slicing), or when you want to store a simple collection of related values where each item doesn't need a unique key to access it; essentially, when the primary concern is the position of an element within the collection, not its unique identifier.\n"
      ],
      "metadata": {
        "id": "PNOHMdB5aWkm"
      }
    },
    {
      "cell_type": "markdown",
      "source": [
        "**19.\tWhy are dictionaries considered unordered, and how does that affect data retrieval?**\n",
        "\n",
        "->Dictionaries in Python are considered unordered because they are implemented as hash tables, and their elements are not stored in a sequence based on insertion order (at least until Python 3.7, where insertion order is preserved but not guaranteed to be part of the language specification until Python 3.8).\n",
        "\n",
        "How This Affects Data Retrieval\n",
        "\n",
        "1. Non-Sequential Access: You cannot use indexing (like dict[0]) to retrieve elements, as you would with lists.\n",
        "\n",
        "\n",
        "2. Key Dependency: Retrieval depends entirely on the keys. If you don’t know the key, you cannot directly access the value.\n",
        "\n",
        "\n",
        "3. Iterating: When iterating over a dictionary, the order of keys, values, or key-value pairs may not align with the insertion order in versions before 3.7."
      ],
      "metadata": {
        "id": "bWaFeb04ajEq"
      }
    },
    {
      "cell_type": "markdown",
      "source": [
        "**20.Explain the difference between a list and a dictionary in terms of data retrieval?**\n",
        "\n",
        "->A list retrieves data using its index position (numerical order), while a dictionary retrieves data using a unique key, meaning you access elements in a list by their position in the sequence, whereas in a dictionary, you access elements by their associated key which can be any data type like a string or number; this makes dictionaries significantly faster for looking up specific data points when you know the key, while lists are better for accessing data in a specific order.\n",
        "\n",
        "*Key points about lists and dictionaries:*\n",
        "\n",
        "  **List:**\n",
        "\n",
        "Ordered collection of elements.\n",
        "\n",
        "Accessed using integer indices (starting from 0).\n",
        "\n",
        "Good for storing data in a specific sequence.\n",
        "\n",
        "**Dictionary**:\n",
        "\n",
        "  Unordered collection of key-value pairs.\n",
        "\n",
        "Accessed using unique keys (can be any data type).\n",
        "\n",
        "Ideal for quick lookups based on a specific identifier."
      ],
      "metadata": {
        "id": "YBbFKOTdcBkv"
      }
    },
    {
      "cell_type": "markdown",
      "source": [
        "# **PRACTICAL QUESTIONS**"
      ],
      "metadata": {
        "id": "Hp2E13-a3saK"
      }
    },
    {
      "cell_type": "markdown",
      "source": [
        "1.\tWrite a code to create a string with your name and print it?"
      ],
      "metadata": {
        "id": "jctkOrmS6a7L"
      }
    },
    {
      "cell_type": "code",
      "source": [
        "\n",
        "# Creating a string with my name\n",
        "name=\"aditya\""
      ],
      "metadata": {
        "id": "xlOibQHJ3x-8"
      },
      "execution_count": null,
      "outputs": []
    },
    {
      "cell_type": "code",
      "source": [
        "#printing the string\n",
        "print(name)"
      ],
      "metadata": {
        "colab": {
          "base_uri": "https://localhost:8080/"
        },
        "id": "a5P89T4A5Qel",
        "outputId": "f77fc2ca-bfa5-4dc3-d173-39b4096a4b0b"
      },
      "execution_count": null,
      "outputs": [
        {
          "output_type": "stream",
          "name": "stdout",
          "text": [
            "aditya\n"
          ]
        }
      ]
    },
    {
      "cell_type": "markdown",
      "source": [
        "2.\tWrite a code to find the length of the string \"Hello World\"?"
      ],
      "metadata": {
        "id": "iumeUge66gVx"
      }
    },
    {
      "cell_type": "code",
      "source": [
        "#defining the string\n",
        "my_string = \"Hello World\""
      ],
      "metadata": {
        "id": "7L2OapIj5eDR"
      },
      "execution_count": null,
      "outputs": []
    },
    {
      "cell_type": "code",
      "source": [
        "# finding the length of the string\n",
        "string_length = len(my_string)"
      ],
      "metadata": {
        "id": "PCVs0gfR9JSW"
      },
      "execution_count": null,
      "outputs": []
    },
    {
      "cell_type": "code",
      "source": [
        "print(f\"The length of the string 'Hello World' is: {string_length}\")"
      ],
      "metadata": {
        "colab": {
          "base_uri": "https://localhost:8080/"
        },
        "id": "d10nroQx-3bq",
        "outputId": "5a325a0c-dd41-4ba4-968d-4a96a8fbdcac"
      },
      "execution_count": null,
      "outputs": [
        {
          "output_type": "stream",
          "name": "stdout",
          "text": [
            "The length of the string 'Hello World' is: 11\n"
          ]
        }
      ]
    },
    {
      "cell_type": "markdown",
      "source": [
        "3.\tWrite a code to slice the first 3 characters from the string \"Python Programming\""
      ],
      "metadata": {
        "id": "1KBwRfa2_IOa"
      }
    },
    {
      "cell_type": "code",
      "source": [
        "#define the string\n",
        "text = \"python programming\""
      ],
      "metadata": {
        "id": "kSeVHR4N_GHZ"
      },
      "execution_count": null,
      "outputs": []
    },
    {
      "cell_type": "code",
      "source": [
        "#slice the first 3 characters\n",
        "sliced_text = text[:3]"
      ],
      "metadata": {
        "id": "sH7VWHSM_NO8"
      },
      "execution_count": null,
      "outputs": []
    },
    {
      "cell_type": "code",
      "source": [
        "# print the result\n",
        "print(sliced_text)"
      ],
      "metadata": {
        "colab": {
          "base_uri": "https://localhost:8080/"
        },
        "id": "VAyw1GC1_-x4",
        "outputId": "1dab1ae8-0f44-4abe-e10e-d13402c787b1"
      },
      "execution_count": null,
      "outputs": [
        {
          "output_type": "stream",
          "name": "stdout",
          "text": [
            "pyt\n"
          ]
        }
      ]
    },
    {
      "cell_type": "markdown",
      "source": [
        "4.\tWrite a code to convert the string \"hello\" to uppercase.\n"
      ],
      "metadata": {
        "id": "07gIPt73APJZ"
      }
    },
    {
      "cell_type": "code",
      "source": [
        "#sefine the string\n",
        "string = \"hello\""
      ],
      "metadata": {
        "id": "Wr2N7XhrATsR"
      },
      "execution_count": null,
      "outputs": []
    },
    {
      "cell_type": "code",
      "source": [
        "# convert to upper case\n",
        "uppercase_string = string.upper()"
      ],
      "metadata": {
        "id": "puB0CWxIAebL"
      },
      "execution_count": null,
      "outputs": []
    },
    {
      "cell_type": "code",
      "source": [
        "# print the result\n",
        "print(uppercase_string)  # Output: \"HELLO\""
      ],
      "metadata": {
        "colab": {
          "base_uri": "https://localhost:8080/"
        },
        "id": "Q3mRcrQeAiU_",
        "outputId": "a0e370ac-bcb7-4ff1-d4be-a6f07244bcc6"
      },
      "execution_count": null,
      "outputs": [
        {
          "output_type": "stream",
          "name": "stdout",
          "text": [
            "HELLO\n"
          ]
        }
      ]
    },
    {
      "cell_type": "markdown",
      "source": [
        "5.\twrite a code to replace the word \"apple\" with \"orange\" in the string \"I like apple\""
      ],
      "metadata": {
        "id": "-vnPCOvFBMHc"
      }
    },
    {
      "cell_type": "code",
      "source": [
        "# defgine the string\n",
        "text = \"i like apple\""
      ],
      "metadata": {
        "id": "VE2z43lZAmDO"
      },
      "execution_count": null,
      "outputs": []
    },
    {
      "cell_type": "code",
      "source": [
        "#Replace\"apple\" with \"orange\"\n",
        "new_text = text.replace(\"apple\",\"orange\")"
      ],
      "metadata": {
        "id": "l_uWUXgYB30q"
      },
      "execution_count": null,
      "outputs": []
    },
    {
      "cell_type": "code",
      "source": [
        "#print the result\n",
        "print(new_text)"
      ],
      "metadata": {
        "colab": {
          "base_uri": "https://localhost:8080/"
        },
        "id": "dJmj-gMyCIsV",
        "outputId": "3f34662d-20fc-47b1-c573-042c58aa9f95"
      },
      "execution_count": null,
      "outputs": [
        {
          "output_type": "stream",
          "name": "stdout",
          "text": [
            "i like orange\n"
          ]
        }
      ]
    },
    {
      "cell_type": "markdown",
      "source": [
        "6.\tWrite a code to create a list with numbers 1 to 5 and print it."
      ],
      "metadata": {
        "id": "T0dfRmquCtvs"
      }
    },
    {
      "cell_type": "code",
      "source": [
        "#create a list with numbers 1 to 5\n",
        "numbers = [1,2,3,4,5]"
      ],
      "metadata": {
        "id": "FCOPr8fxCfmx"
      },
      "execution_count": null,
      "outputs": []
    },
    {
      "cell_type": "code",
      "source": [
        "#print the list\n",
        "print(numbers)"
      ],
      "metadata": {
        "colab": {
          "base_uri": "https://localhost:8080/"
        },
        "id": "GkH1OgxvDKiO",
        "outputId": "f8bdc7aa-b264-40d6-d1f7-70fa4e0749e3"
      },
      "execution_count": null,
      "outputs": [
        {
          "output_type": "stream",
          "name": "stdout",
          "text": [
            "[1, 2, 3, 4, 5]\n"
          ]
        }
      ]
    },
    {
      "cell_type": "markdown",
      "source": [
        "7.\tWrite a code to append the number 10 to the list [1, 2, 3, 4]."
      ],
      "metadata": {
        "id": "lhjhbEB2DcJc"
      }
    },
    {
      "cell_type": "code",
      "source": [
        "#define the list\n",
        "numbers = [1,2,3,4]"
      ],
      "metadata": {
        "id": "igHmcNqXDR0e"
      },
      "execution_count": null,
      "outputs": []
    },
    {
      "cell_type": "code",
      "source": [
        "#append the number 10\n",
        "numbers.append(10)\n"
      ],
      "metadata": {
        "id": "rJi6k3oCEUPH"
      },
      "execution_count": null,
      "outputs": []
    },
    {
      "cell_type": "code",
      "source": [
        "#print the updated list\n",
        "print(numbers)"
      ],
      "metadata": {
        "colab": {
          "base_uri": "https://localhost:8080/"
        },
        "id": "-XTAtJ60Eg0U",
        "outputId": "39567e8d-a105-433d-a80f-14347041f731"
      },
      "execution_count": null,
      "outputs": [
        {
          "output_type": "stream",
          "name": "stdout",
          "text": [
            "[1, 2, 3, 4, 10]\n"
          ]
        }
      ]
    },
    {
      "cell_type": "markdown",
      "source": [
        "8.\tWrite a code to remove the number 3 from the list [I, 2, 3, 4, 5] ?"
      ],
      "metadata": {
        "id": "gpdwycLLFuws"
      }
    },
    {
      "cell_type": "code",
      "source": [
        "# define the list\n",
        "numbers = [1,2,3,4,5]"
      ],
      "metadata": {
        "id": "muCrhziDEnn3"
      },
      "execution_count": null,
      "outputs": []
    },
    {
      "cell_type": "code",
      "source": [
        "#remove rge number 3\n",
        "numbers.remove(3)"
      ],
      "metadata": {
        "id": "oaeKyTi8GNou"
      },
      "execution_count": null,
      "outputs": []
    },
    {
      "cell_type": "code",
      "source": [
        "#print the updated list\n",
        "print(numbers)"
      ],
      "metadata": {
        "colab": {
          "base_uri": "https://localhost:8080/"
        },
        "id": "rJoR-mCZGaTK",
        "outputId": "df01498c-9e82-4dd4-d84e-34e07c6d9f1c"
      },
      "execution_count": null,
      "outputs": [
        {
          "output_type": "stream",
          "name": "stdout",
          "text": [
            "[1, 2, 4, 5]\n"
          ]
        }
      ]
    },
    {
      "cell_type": "markdown",
      "source": [
        "9.\tWrite a code to access the second element in the list ['a', 'b', 'c', 'd] ?"
      ],
      "metadata": {
        "id": "a-GpaI5iGowI"
      }
    },
    {
      "cell_type": "code",
      "source": [
        "# define the list\n",
        "my_list = ['a','b','c']"
      ],
      "metadata": {
        "id": "PLECeifGGhiD"
      },
      "execution_count": null,
      "outputs": []
    },
    {
      "cell_type": "code",
      "source": [
        "#access the second element\n",
        "second_element = my_list[1]"
      ],
      "metadata": {
        "id": "AmOJSViiHZvG"
      },
      "execution_count": null,
      "outputs": []
    },
    {
      "cell_type": "code",
      "source": [
        "#print the second element\n",
        "print(second_element)"
      ],
      "metadata": {
        "colab": {
          "base_uri": "https://localhost:8080/"
        },
        "id": "KE5e-AZQHnU6",
        "outputId": "01f955c8-5123-4c7b-f693-29c4638824c8"
      },
      "execution_count": null,
      "outputs": [
        {
          "output_type": "stream",
          "name": "stdout",
          "text": [
            "b\n"
          ]
        }
      ]
    },
    {
      "cell_type": "markdown",
      "source": [
        "10.\tWrite a code to reverse the list [10, 20, 30, 40, 50]?"
      ],
      "metadata": {
        "id": "C4avaAtFH5ip"
      }
    },
    {
      "cell_type": "code",
      "source": [
        "#define the list\n",
        "numbers = [10,20,30,40,50]"
      ],
      "metadata": {
        "id": "9fFZjKitIDGi"
      },
      "execution_count": null,
      "outputs": []
    },
    {
      "cell_type": "code",
      "source": [
        "# reverse the list\n",
        "numbers.reverse()"
      ],
      "metadata": {
        "id": "HyNF8YsBIUm5"
      },
      "execution_count": null,
      "outputs": []
    },
    {
      "cell_type": "code",
      "source": [
        "# print the reversed list\n",
        "print(numbers)"
      ],
      "metadata": {
        "colab": {
          "base_uri": "https://localhost:8080/"
        },
        "id": "zFjEfM5JIcm_",
        "outputId": "f2a97aeb-0350-42dd-8b60-1973e337cdab"
      },
      "execution_count": null,
      "outputs": [
        {
          "output_type": "stream",
          "name": "stdout",
          "text": [
            "[50, 40, 30, 20, 10]\n"
          ]
        }
      ]
    },
    {
      "cell_type": "markdown",
      "source": [
        "11.Write a code to create a tuple with the elements 10, 20, 30 and print it?"
      ],
      "metadata": {
        "id": "kkYFIi23MvhO"
      }
    },
    {
      "cell_type": "code",
      "source": [
        "#create a tuple with element 10,20 and 30\n",
        "my_tuple = (10,20,30)\n"
      ],
      "metadata": {
        "id": "-7DFervPIovk"
      },
      "execution_count": null,
      "outputs": []
    },
    {
      "cell_type": "code",
      "source": [
        "#print the tuple\n",
        "print(my_tuple)"
      ],
      "metadata": {
        "colab": {
          "base_uri": "https://localhost:8080/"
        },
        "id": "_x3mqm9BNfmW",
        "outputId": "7741be45-b03b-4c7d-8b05-da9d75d44f68"
      },
      "execution_count": null,
      "outputs": [
        {
          "output_type": "stream",
          "name": "stdout",
          "text": [
            "(10, 20, 30)\n"
          ]
        }
      ]
    },
    {
      "cell_type": "markdown",
      "source": [
        "12.\tWrite a code to access the first element of the tuple ('apple', 'banana', 'cherry')?"
      ],
      "metadata": {
        "id": "S8iyMelbN3P3"
      }
    },
    {
      "cell_type": "code",
      "source": [
        "#define the tuple\n",
        "my_tuple = ('apple','banana','cherry')\n"
      ],
      "metadata": {
        "id": "XWt25mB9NoSm"
      },
      "execution_count": null,
      "outputs": []
    },
    {
      "cell_type": "code",
      "source": [
        "#access the first element\n",
        "first_element = my_tuple[0]"
      ],
      "metadata": {
        "id": "GebS5u4xOyTP"
      },
      "execution_count": null,
      "outputs": []
    },
    {
      "cell_type": "code",
      "source": [
        "# print the first element\n",
        "print(first_element)"
      ],
      "metadata": {
        "colab": {
          "base_uri": "https://localhost:8080/"
        },
        "id": "UzjwLbX9Ok_N",
        "outputId": "c2a8de6f-088d-4212-8a4a-e0c97a61367e"
      },
      "execution_count": null,
      "outputs": [
        {
          "output_type": "stream",
          "name": "stdout",
          "text": [
            "apple\n"
          ]
        }
      ]
    },
    {
      "cell_type": "markdown",
      "source": [
        "13.\tWrite a code to count how many times the number 2 appears in the tuple (l, 2, 3, 2, 4, 2)."
      ],
      "metadata": {
        "id": "s_AS16zCPCFz"
      }
    },
    {
      "cell_type": "code",
      "source": [
        "#define the tuple\n",
        "my_tuple = (1,2,3,2,4,2,)"
      ],
      "metadata": {
        "id": "CU8jBqmgOvVv"
      },
      "execution_count": null,
      "outputs": []
    },
    {
      "cell_type": "code",
      "source": [
        "#count the occurance of the number 2\n",
        "count_of_2 = my_tuple.count(2)"
      ],
      "metadata": {
        "id": "xu-WaDw3PcGy"
      },
      "execution_count": null,
      "outputs": []
    },
    {
      "cell_type": "code",
      "source": [
        "#print the count\n",
        "print(count_of_2)"
      ],
      "metadata": {
        "colab": {
          "base_uri": "https://localhost:8080/"
        },
        "id": "psb62Vr4PxxC",
        "outputId": "68e328f4-fb68-4f5e-a243-aff97c16bf0b"
      },
      "execution_count": null,
      "outputs": [
        {
          "output_type": "stream",
          "name": "stdout",
          "text": [
            "3\n"
          ]
        }
      ]
    },
    {
      "cell_type": "markdown",
      "source": [
        "14.\tWrite a code to find the index of the element \"cat\" in the tuple ('dog', 'cat', 'rabbit')."
      ],
      "metadata": {
        "id": "-CUVcTtiP-lB"
      }
    },
    {
      "cell_type": "code",
      "source": [
        "#define the tuple\n",
        "my_tuple = ('dog','cat','rabbit')"
      ],
      "metadata": {
        "id": "ePIEWPKlP6iS"
      },
      "execution_count": null,
      "outputs": []
    },
    {
      "cell_type": "code",
      "source": [
        "#find the index of the element \"cat\"\n",
        "index_of_cat = my_tuple.index('cat')"
      ],
      "metadata": {
        "id": "uidzRXvRRDFE"
      },
      "execution_count": null,
      "outputs": []
    },
    {
      "cell_type": "code",
      "source": [
        "# print the index\n",
        "print(index_of_cat)"
      ],
      "metadata": {
        "colab": {
          "base_uri": "https://localhost:8080/"
        },
        "id": "No0GvOUbRWF8",
        "outputId": "b6ee6b3c-c463-4635-caf5-fa64bc90a414"
      },
      "execution_count": null,
      "outputs": [
        {
          "output_type": "stream",
          "name": "stdout",
          "text": [
            "1\n"
          ]
        }
      ]
    },
    {
      "cell_type": "markdown",
      "source": [
        "15.\tWrite a code to check if the element \"banana\" is in the tuple ('apple', 'orange', banana')."
      ],
      "metadata": {
        "id": "JQrX44eYRlxl"
      }
    },
    {
      "cell_type": "code",
      "source": [
        "# define the tuple\n",
        "my_tuple = ('apple','orange','banana')"
      ],
      "metadata": {
        "id": "yan4no_tRfsL"
      },
      "execution_count": null,
      "outputs": []
    },
    {
      "cell_type": "code",
      "source": [
        "#check if \"banana\" is in the tuple\n",
        "is_banana_in_my_tuple = 'banana' in my_tuple"
      ],
      "metadata": {
        "id": "e-jPiiePSDxY"
      },
      "execution_count": null,
      "outputs": []
    },
    {
      "cell_type": "code",
      "source": [
        "# print the result\n",
        "print(is_banana_in_my_tuple)"
      ],
      "metadata": {
        "colab": {
          "base_uri": "https://localhost:8080/"
        },
        "id": "qmA7pRSjShTk",
        "outputId": "568188e6-9c66-42f5-cedf-79841695e46d"
      },
      "execution_count": null,
      "outputs": [
        {
          "output_type": "stream",
          "name": "stdout",
          "text": [
            "True\n"
          ]
        }
      ]
    },
    {
      "cell_type": "markdown",
      "source": [
        "16.\tWrite a code to create a set with the elements l, 2, 3, 4, 5 and print it?"
      ],
      "metadata": {
        "id": "3IKfZG85TQpP"
      }
    },
    {
      "cell_type": "code",
      "source": [
        "#create the set with elements 1,2,3,4,5\n",
        "my_set = (1,2,3,4,5)"
      ],
      "metadata": {
        "id": "0i5O_WMASkDk"
      },
      "execution_count": null,
      "outputs": []
    },
    {
      "cell_type": "code",
      "source": [
        "# printing set\n",
        "print(my_set)"
      ],
      "metadata": {
        "colab": {
          "base_uri": "https://localhost:8080/"
        },
        "id": "RWAGU8JJTpeg",
        "outputId": "18de88c5-c61d-4ed0-fec2-bf3a9df5af1a"
      },
      "execution_count": null,
      "outputs": [
        {
          "output_type": "stream",
          "name": "stdout",
          "text": [
            "(1, 2, 3, 4, 5)\n"
          ]
        }
      ]
    },
    {
      "cell_type": "markdown",
      "source": [
        "17.\tWrite a code to add the element 6 to the set {I, 2, 3, 4}."
      ],
      "metadata": {
        "id": "ORIC_bWETxQN"
      }
    },
    {
      "cell_type": "code",
      "source": [
        "#defining the set\n",
        "my_set = {1,2,3,4}"
      ],
      "metadata": {
        "id": "deeafxAYTv9M"
      },
      "execution_count": null,
      "outputs": []
    },
    {
      "cell_type": "code",
      "source": [
        "#add the element 6 to the set\n",
        "my_set.add(6)\n"
      ],
      "metadata": {
        "id": "YoFHayqTUKVu"
      },
      "execution_count": null,
      "outputs": []
    },
    {
      "cell_type": "code",
      "source": [
        "#print the updated set\n",
        "print(my_set)"
      ],
      "metadata": {
        "colab": {
          "base_uri": "https://localhost:8080/"
        },
        "id": "xq9CWdgPUa3Z",
        "outputId": "588379d6-0dfe-4b7f-e3f3-f00583f027db"
      },
      "execution_count": null,
      "outputs": [
        {
          "output_type": "stream",
          "name": "stdout",
          "text": [
            "{1, 2, 3, 4, 6}\n"
          ]
        }
      ]
    },
    {
      "cell_type": "markdown",
      "source": [
        "18.\tWrite a code to create a tuple with the elements 10, 20, 30 and print it."
      ],
      "metadata": {
        "id": "oWJsHUVpU1jm"
      }
    },
    {
      "cell_type": "code",
      "source": [
        "#create the tuple\n",
        "my_tuple = (10,20,30,)"
      ],
      "metadata": {
        "id": "yYjH__YYUiaq"
      },
      "execution_count": null,
      "outputs": []
    },
    {
      "cell_type": "code",
      "source": [
        "#print the tuple\n",
        "print(my_tuple)"
      ],
      "metadata": {
        "colab": {
          "base_uri": "https://localhost:8080/"
        },
        "id": "7APXKpXWZgUi",
        "outputId": "c41ba8dc-fb9c-4541-a98a-da32071906bd"
      },
      "execution_count": null,
      "outputs": [
        {
          "output_type": "stream",
          "name": "stdout",
          "text": [
            "(10, 20, 30)\n"
          ]
        }
      ]
    },
    {
      "cell_type": "markdown",
      "source": [
        "19.\tWrite a code to access the first element of the tuple ('apple', 'banana', 'cherry')."
      ],
      "metadata": {
        "id": "bz8urQ1gZroQ"
      }
    },
    {
      "cell_type": "code",
      "source": [
        "#define the tuple\n",
        "my_tuple = ('apple','banana','cherry')"
      ],
      "metadata": {
        "id": "qd0PqxrHZmHs"
      },
      "execution_count": null,
      "outputs": []
    },
    {
      "cell_type": "code",
      "source": [
        "# access the first tuple\n",
        "first_tuple = my_tuple[0]"
      ],
      "metadata": {
        "id": "lJV_B_kbcm0g"
      },
      "execution_count": null,
      "outputs": []
    },
    {
      "cell_type": "code",
      "source": [
        "# find the result\n",
        "print(first_tuple)"
      ],
      "metadata": {
        "colab": {
          "base_uri": "https://localhost:8080/"
        },
        "id": "cUXZD5fbc7r1",
        "outputId": "2b95096f-40bf-4634-af28-e665b5bbfe7b"
      },
      "execution_count": null,
      "outputs": [
        {
          "output_type": "stream",
          "name": "stdout",
          "text": [
            "apple\n"
          ]
        }
      ]
    },
    {
      "cell_type": "markdown",
      "source": [
        "20.\tWrite a code to count how many times the number 2 appears in the tuple (I, 2, 3, 2, 4, 2)."
      ],
      "metadata": {
        "id": "WS2_CixOdZQL"
      }
    },
    {
      "cell_type": "code",
      "source": [
        "# define the tuple\n",
        "my_tuple = (1,2,3,2,4,2)"
      ],
      "metadata": {
        "id": "IdD9tTkvdNtT"
      },
      "execution_count": null,
      "outputs": []
    },
    {
      "cell_type": "code",
      "source": [
        "#count the occurance of the 2\n",
        "count_of_2 = my_tuple.count(2)"
      ],
      "metadata": {
        "id": "53dXbSAWd1h-"
      },
      "execution_count": null,
      "outputs": []
    },
    {
      "cell_type": "code",
      "source": [
        "# print the count\n",
        "print(count_of_2)"
      ],
      "metadata": {
        "colab": {
          "base_uri": "https://localhost:8080/"
        },
        "id": "AJ8fkowAe1y1",
        "outputId": "986d5dcd-ff24-40bb-c6f2-cdda352f0beb"
      },
      "execution_count": null,
      "outputs": [
        {
          "output_type": "stream",
          "name": "stdout",
          "text": [
            "3\n"
          ]
        }
      ]
    },
    {
      "cell_type": "markdown",
      "source": [
        "21.\tWrite a code to find the index of the element \"cat\" in the tuple ('dog', 'cat', 'rabbit')."
      ],
      "metadata": {
        "id": "j3X-itVthw8B"
      }
    },
    {
      "cell_type": "code",
      "source": [
        "#difine the tuple\n",
        "my_tuple = ('dog','cat','rabbit')"
      ],
      "metadata": {
        "id": "2RqQ4WYpfMwT"
      },
      "execution_count": null,
      "outputs": []
    },
    {
      "cell_type": "code",
      "source": [
        "# find the index of element cat\n",
        "index_of_cat = my_tuple.index('cat')"
      ],
      "metadata": {
        "id": "KigeoTKqiYy0"
      },
      "execution_count": null,
      "outputs": []
    },
    {
      "cell_type": "code",
      "source": [
        "#print the index\n",
        "print(index_of_cat)"
      ],
      "metadata": {
        "colab": {
          "base_uri": "https://localhost:8080/"
        },
        "id": "AjnZG_mTig5t",
        "outputId": "0674bb64-4ced-4b60-b920-1f245e0ff085"
      },
      "execution_count": null,
      "outputs": [
        {
          "output_type": "stream",
          "name": "stdout",
          "text": [
            "1\n"
          ]
        }
      ]
    },
    {
      "cell_type": "markdown",
      "source": [
        "22.\tWrite a code to check if the element \"banana\" is in the tuple ('apple', 'orange', 'banana')."
      ],
      "metadata": {
        "id": "n9q2bsbVjGZ0"
      }
    },
    {
      "cell_type": "code",
      "source": [
        "#define the tuple\n",
        "my_tuple = ('apple','orange','banana')"
      ],
      "metadata": {
        "id": "9N8ZFlp3jDFe"
      },
      "execution_count": null,
      "outputs": []
    },
    {
      "cell_type": "code",
      "source": [
        "#check is 'banana'is in my tuple\n",
        "is_banana_in_my_tuple = 'banana' in my_tuple"
      ],
      "metadata": {
        "id": "eM9I8KJbjiZA"
      },
      "execution_count": null,
      "outputs": []
    },
    {
      "cell_type": "code",
      "source": [
        "#checking the result\n",
        "print(is_banana_in_my_tuple)"
      ],
      "metadata": {
        "colab": {
          "base_uri": "https://localhost:8080/"
        },
        "id": "4bhoLvP4kEM0",
        "outputId": "1bcfc6e8-96af-4f22-f839-4dedee6b6df9"
      },
      "execution_count": null,
      "outputs": [
        {
          "output_type": "stream",
          "name": "stdout",
          "text": [
            "True\n"
          ]
        }
      ]
    },
    {
      "cell_type": "markdown",
      "source": [
        "23.\tWrite a code to create a set with the elements I, 2, 3, 4, 5 and print it."
      ],
      "metadata": {
        "id": "1aZTDXyyk7U4"
      }
    },
    {
      "cell_type": "code",
      "source": [
        "#define the element\n",
        "my_set = (1,2,3,4,5)"
      ],
      "metadata": {
        "id": "o_zykiaGk1aM"
      },
      "execution_count": null,
      "outputs": []
    },
    {
      "cell_type": "code",
      "source": [
        "#print the set\n",
        "print(my_set)"
      ],
      "metadata": {
        "colab": {
          "base_uri": "https://localhost:8080/"
        },
        "id": "oZUGe9twlFDQ",
        "outputId": "a5587ea3-ab90-4a93-ead5-dbdc339b5c52"
      },
      "execution_count": null,
      "outputs": [
        {
          "output_type": "stream",
          "name": "stdout",
          "text": [
            "(1, 2, 3, 4, 5)\n"
          ]
        }
      ]
    },
    {
      "cell_type": "markdown",
      "source": [
        "24.\tWrite a code to add the element 6 to the set {1, 2, 3, 4}.\n"
      ],
      "metadata": {
        "id": "jQRyl8tulV2A"
      }
    },
    {
      "cell_type": "code",
      "source": [
        "#define the element\n",
        "my_set = {1,2,3,4}"
      ],
      "metadata": {
        "id": "2chmIMNolOuv"
      },
      "execution_count": null,
      "outputs": []
    },
    {
      "cell_type": "code",
      "source": [
        "#add the element 6 in my set\n",
        "my_set.add(6)"
      ],
      "metadata": {
        "id": "5mQ2B_iPlxu_"
      },
      "execution_count": null,
      "outputs": []
    },
    {
      "cell_type": "code",
      "source": [
        "#print the result\n",
        "print(my_set)"
      ],
      "metadata": {
        "colab": {
          "base_uri": "https://localhost:8080/"
        },
        "id": "hMJv_6DDmH1o",
        "outputId": "a2ae2ded-2219-4c93-f82c-a447d37d416c"
      },
      "execution_count": null,
      "outputs": [
        {
          "output_type": "stream",
          "name": "stdout",
          "text": [
            "{1, 2, 3, 4, 6}\n"
          ]
        }
      ]
    },
    {
      "cell_type": "code",
      "source": [],
      "metadata": {
        "id": "BixMbxYMmUVB"
      },
      "execution_count": null,
      "outputs": []
    }
  ]
}